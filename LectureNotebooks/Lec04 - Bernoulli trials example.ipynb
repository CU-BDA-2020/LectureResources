{
 "cells": [
  {
   "cell_type": "code",
   "execution_count": 1,
   "metadata": {},
   "outputs": [],
   "source": [
    "# Hypotheses:\n",
    "alpha_0 = .5\n",
    "alpha_1 = .4\n",
    "alpha_2 = .6\n",
    "\n",
    "# Priors:\n",
    "pi_0 = .9\n",
    "pi_1, pi_2 = .05, .05"
   ]
  },
  {
   "cell_type": "code",
   "execution_count": 12,
   "metadata": {},
   "outputs": [],
   "source": [
    "Ntot = 12\n",
    "n = 8"
   ]
  },
  {
   "cell_type": "code",
   "execution_count": 13,
   "metadata": {},
   "outputs": [],
   "source": [
    "def like(alpha, n_heads, N_tot):\n",
    "    return alpha**n_heads * (1. - alpha)**(N_tot - n_heads)"
   ]
  },
  {
   "cell_type": "code",
   "execution_count": 14,
   "metadata": {},
   "outputs": [],
   "source": [
    "# Prior predictive:\n",
    "Z = pi_0 * like(alpha_0, n, Ntot) + pi_1 * like(alpha_1, n, Ntot) + pi_2 * like(alpha_2, n, Ntot)"
   ]
  },
  {
   "cell_type": "code",
   "execution_count": 15,
   "metadata": {},
   "outputs": [
    {
     "data": {
      "text/plain": [
       "0.00024547238010000003"
      ]
     },
     "execution_count": 15,
     "metadata": {},
     "output_type": "execute_result"
    }
   ],
   "source": [
    "Z"
   ]
  },
  {
   "cell_type": "code",
   "execution_count": 16,
   "metadata": {},
   "outputs": [
    {
     "name": "stdout",
     "output_type": "stream",
     "text": [
      "H0: 0.8951172527454545 \n",
      "H1: 0.01730024696982193 \n",
      "H2: 0.08758250028472346\n"
     ]
    }
   ],
   "source": [
    "# Posteriors:\n",
    "print('H0:', pi_0*like(alpha_0, n, Ntot)/Z, '\\nH1:', pi_1*like(alpha_1, n, Ntot)/Z, '\\nH2:', pi_2*like(alpha_2, n, Ntot)/Z)"
   ]
  },
  {
   "cell_type": "code",
   "execution_count": null,
   "metadata": {},
   "outputs": [],
   "source": []
  }
 ],
 "metadata": {
  "kernelspec": {
   "display_name": "Python 3",
   "language": "python",
   "name": "python3"
  },
  "language_info": {
   "codemirror_mode": {
    "name": "ipython",
    "version": 3
   },
   "file_extension": ".py",
   "mimetype": "text/x-python",
   "name": "python",
   "nbconvert_exporter": "python",
   "pygments_lexer": "ipython3",
   "version": "3.6.9"
  }
 },
 "nbformat": 4,
 "nbformat_minor": 2
}
